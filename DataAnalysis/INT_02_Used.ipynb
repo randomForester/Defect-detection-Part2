{
 "cells": [
  {
   "cell_type": "code",
   "execution_count": 1,
   "metadata": {
    "collapsed": true
   },
   "outputs": [],
   "source": [
    "import pandas as pd\n",
    "import numpy as np"
   ]
  },
  {
   "cell_type": "code",
   "execution_count": 2,
   "metadata": {},
   "outputs": [
    {
     "name": "stdout",
     "output_type": "stream",
     "text": [
      "/Users/cesare.chung/Downloads/INT_Statistics2\n"
     ]
    }
   ],
   "source": [
    "import os;\n",
    "os.chdir(\"/Users/cesare.chung/Downloads/INT_Statistics2/\")\n",
    "\n",
    "print (os.getcwd());"
   ]
  },
  {
   "cell_type": "code",
   "execution_count": 3,
   "metadata": {
    "collapsed": true
   },
   "outputs": [],
   "source": [
    "int_data  = pd.read_csv(\"UHPD1114.csv\")"
   ]
  },
  {
   "cell_type": "code",
   "execution_count": 4,
   "metadata": {
    "collapsed": true
   },
   "outputs": [],
   "source": [
    "int_data2 = int_data[[\"Project\",\"Domain\",\"Phase\",\"Milestone\",\"Items\",\"KPI\",\"Name2\",\"End_Date\",\"End_Date_A\",\"Name\"]]"
   ]
  },
  {
   "cell_type": "code",
   "execution_count": 5,
   "metadata": {
    "collapsed": true
   },
   "outputs": [],
   "source": [
    "#int_data2.head(6)"
   ]
  },
  {
   "cell_type": "code",
   "execution_count": 6,
   "metadata": {
    "collapsed": true
   },
   "outputs": [],
   "source": [
    "int_data2=int_data2[(int_data2.Milestone == 'Y') | (int_data2.Milestone == 'K')]"
   ]
  },
  {
   "cell_type": "code",
   "execution_count": 7,
   "metadata": {},
   "outputs": [
    {
     "data": {
      "text/plain": [
       "(178, 10)"
      ]
     },
     "execution_count": 7,
     "metadata": {},
     "output_type": "execute_result"
    }
   ],
   "source": [
    "int_data2.shape"
   ]
  },
  {
   "cell_type": "code",
   "execution_count": 8,
   "metadata": {
    "collapsed": true
   },
   "outputs": [],
   "source": [
    "#int_data2.head(3)"
   ]
  },
  {
   "cell_type": "code",
   "execution_count": 9,
   "metadata": {
    "collapsed": true
   },
   "outputs": [],
   "source": [
    "int_data2=int_data2.rename(columns={'Project': '專案','Phase': '階段','Items': '項目','KPI':'量化標準',\n",
    "                          'End_Date': '完成時間','End_Date_A': '實際完成時間','Name': '備註','Name2':'審核人'})"
   ]
  },
  {
   "cell_type": "code",
   "execution_count": 10,
   "metadata": {
    "collapsed": true
   },
   "outputs": [],
   "source": [
    "#int_data2.head()"
   ]
  },
  {
   "cell_type": "code",
   "execution_count": 11,
   "metadata": {
    "collapsed": true
   },
   "outputs": [],
   "source": [
    "#int_data2.審核人.head()"
   ]
  },
  {
   "cell_type": "code",
   "execution_count": 12,
   "metadata": {
    "collapsed": true
   },
   "outputs": [],
   "source": [
    "#int_data2.備註.head()"
   ]
  },
  {
   "cell_type": "code",
   "execution_count": 13,
   "metadata": {
    "collapsed": true
   },
   "outputs": [],
   "source": [
    "#int_data2[(int_data2.備註 == 'James') | (int_data2.備註 == 'Cesare/James')]\n",
    "#int_data2[(int_data2.備註 == 'Anna')  | (int_data2.備註 == 'Anna/Cesare')]"
   ]
  },
  {
   "cell_type": "code",
   "execution_count": 14,
   "metadata": {
    "collapsed": true
   },
   "outputs": [],
   "source": [
    "#int_data2['專案'].value_counts()\n",
    "#int_data2['Domain'].value_counts()\n",
    "#int_data2['審核人'].value_counts()\n",
    "#int_data2['Milestone'].value_counts()\n",
    "#int_data2['階段'].value_counts()"
   ]
  },
  {
   "cell_type": "code",
   "execution_count": 15,
   "metadata": {},
   "outputs": [
    {
     "data": {
      "text/plain": [
       "專案             0\n",
       "Domain         0\n",
       "階段             0\n",
       "Milestone      0\n",
       "項目             0\n",
       "量化標準          24\n",
       "審核人            0\n",
       "完成時間           8\n",
       "實際完成時間       117\n",
       "備註             0\n",
       "dtype: int64"
      ]
     },
     "execution_count": 15,
     "metadata": {},
     "output_type": "execute_result"
    }
   ],
   "source": [
    "int_data2.apply(lambda x: sum(x.isnull()),axis=0)\n",
    "int_data2.isnull().sum()"
   ]
  },
  {
   "cell_type": "code",
   "execution_count": 16,
   "metadata": {
    "collapsed": true
   },
   "outputs": [],
   "source": [
    "#int_data2['備註'].value_counts().head(20)"
   ]
  },
  {
   "cell_type": "code",
   "execution_count": 17,
   "metadata": {
    "collapsed": true
   },
   "outputs": [],
   "source": [
    "####################\n",
    "# Members          # (1)\n",
    "####################"
   ]
  },
  {
   "cell_type": "code",
   "execution_count": 18,
   "metadata": {},
   "outputs": [
    {
     "name": "stdout",
     "output_type": "stream",
     "text": [
      "There are 28 Catherine\n"
     ]
    }
   ],
   "source": [
    "catherine_count = int_data2['備註'].str.contains('Catherine').sum()\n",
    "if catherine_count > 0:\n",
    "    print (\"There are {m} Catherine\".format(m=catherine_count))"
   ]
  },
  {
   "cell_type": "code",
   "execution_count": 19,
   "metadata": {
    "collapsed": true
   },
   "outputs": [],
   "source": [
    "####################\n",
    "# Members          # (2)\n",
    "####################"
   ]
  },
  {
   "cell_type": "code",
   "execution_count": 20,
   "metadata": {
    "collapsed": true
   },
   "outputs": [],
   "source": [
    "def match_results(r):\n",
    "    if 'HM' in r['備註']:\n",
    "        return \"T\"\n",
    "    else:\n",
    "        return \"F\""
   ]
  },
  {
   "cell_type": "code",
   "execution_count": 21,
   "metadata": {},
   "outputs": [
    {
     "data": {
      "text/plain": [
       "(18, 11)"
      ]
     },
     "execution_count": 21,
     "metadata": {},
     "output_type": "execute_result"
    }
   ],
   "source": [
    "int_data2['Match2']=int_data2.apply(match_results, axis=1)\n",
    "int_df = int_data2[int_data2.Match2 == 'T']\n",
    "int_df.to_csv(\"/Users/cesare.chung/temp.csv\", index=False,encoding=\"big5\")\n",
    "int_df.shape"
   ]
  },
  {
   "cell_type": "code",
   "execution_count": 22,
   "metadata": {
    "collapsed": true
   },
   "outputs": [],
   "source": [
    "####################\n",
    "# Members          # (3)\n",
    "####################"
   ]
  },
  {
   "cell_type": "code",
   "execution_count": 23,
   "metadata": {
    "collapsed": true
   },
   "outputs": [],
   "source": [
    "#int_df.head()"
   ]
  },
  {
   "cell_type": "code",
   "execution_count": 24,
   "metadata": {
    "collapsed": true
   },
   "outputs": [],
   "source": [
    "int_data2['name_list'] = int_data2['備註'].apply(lambda x: x.split('/'))\n",
    "#print (int_data2['name_list'])"
   ]
  },
  {
   "cell_type": "code",
   "execution_count": 25,
   "metadata": {
    "collapsed": true
   },
   "outputs": [],
   "source": [
    "#int_data2.head()"
   ]
  },
  {
   "cell_type": "code",
   "execution_count": 26,
   "metadata": {
    "collapsed": true
   },
   "outputs": [],
   "source": [
    "skills_unq = set()\n",
    "\n",
    "#Update each entry into set. Since it takes only unique value, duplicates will be ignored automatically.\n",
    "skills_unq.update( (sport for l in int_data2['name_list'] for sport in l) )"
   ]
  },
  {
   "cell_type": "code",
   "execution_count": 27,
   "metadata": {
    "collapsed": true
   },
   "outputs": [],
   "source": [
    "#print (skills_unq)"
   ]
  },
  {
   "cell_type": "code",
   "execution_count": 28,
   "metadata": {
    "collapsed": true
   },
   "outputs": [],
   "source": [
    "skills_unq = list(skills_unq)\n",
    "sport_matrix = [ [1 if skill in row else 0 for skill in skills_unq] for row in int_data2['name_list'] ]"
   ]
  },
  {
   "cell_type": "code",
   "execution_count": 29,
   "metadata": {
    "collapsed": true
   },
   "outputs": [],
   "source": [
    "data = pd.concat([int_data2, pd.DataFrame(sport_matrix,columns=skills_unq)],axis=1)\n",
    "#data"
   ]
  },
  {
   "cell_type": "code",
   "execution_count": 30,
   "metadata": {},
   "outputs": [
    {
     "data": {
      "text/plain": [
       "(333, 46)"
      ]
     },
     "execution_count": 30,
     "metadata": {},
     "output_type": "execute_result"
    }
   ],
   "source": [
    "data.shape"
   ]
  },
  {
   "cell_type": "code",
   "execution_count": null,
   "metadata": {
    "collapsed": true
   },
   "outputs": [],
   "source": []
  }
 ],
 "metadata": {
  "kernelspec": {
   "display_name": "Python 3",
   "language": "python",
   "name": "python3"
  },
  "language_info": {
   "codemirror_mode": {
    "name": "ipython",
    "version": 3
   },
   "file_extension": ".py",
   "mimetype": "text/x-python",
   "name": "python",
   "nbconvert_exporter": "python",
   "pygments_lexer": "ipython3",
   "version": "3.5.3"
  }
 },
 "nbformat": 4,
 "nbformat_minor": 2
}
